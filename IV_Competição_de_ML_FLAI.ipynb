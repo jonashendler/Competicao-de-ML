{
  "nbformat": 4,
  "nbformat_minor": 0,
  "metadata": {
    "colab": {
      "name": "IV Competição de ML FLAI - Guia de Submissão",
      "provenance": [],
      "collapsed_sections": [],
      "toc_visible": true,
      "include_colab_link": true
    },
    "kernelspec": {
      "name": "python3",
      "display_name": "Python 3"
    },
    "language_info": {
      "name": "python"
    }
  },
  "cells": [
    {
      "cell_type": "markdown",
      "metadata": {
        "id": "view-in-github",
        "colab_type": "text"
      },
      "source": [
        "<a href=\"https://colab.research.google.com/github/jonashendler/Competicao_de_ML/blob/main/IV_Competi%C3%A7%C3%A3o_de_ML_FLAI.ipynb\" target=\"_parent\"><img src=\"https://colab.research.google.com/assets/colab-badge.svg\" alt=\"Open In Colab\"/></a>"
      ]
    },
    {
      "cell_type": "markdown",
      "metadata": {
        "id": "3LYjCiRpfCvE"
      },
      "source": [
        "# **IV Competição de ML FLAI - Guia de Submissão**"
      ]
    },
    {
      "cell_type": "code",
      "metadata": {
        "id": "qMR8ZIMwcaOs"
      },
      "source": [
        "# Importação dos dados\n",
        "import pandas as pd\n",
        "\n",
        "url1 = 'https://raw.githubusercontent.com/jonashendler/Datasets/main/Competi%C3%A7%C3%A3o%20FLAI/treino.csv'\n",
        "url2 = 'https://raw.githubusercontent.com/jonashendler/Datasets/main/Competi%C3%A7%C3%A3o%20FLAI/teste_1.csv'\n",
        "\n",
        "treino = pd.read_csv(url1)\n",
        "teste1 = pd.read_csv(url2)\n"
      ],
      "execution_count": null,
      "outputs": []
    },
    {
      "cell_type": "code",
      "metadata": {
        "id": "LbOv1Awvl3Zd"
      },
      "source": [
        "treino.head()"
      ],
      "execution_count": null,
      "outputs": []
    },
    {
      "cell_type": "code",
      "metadata": {
        "id": "ZuS_Sjtgc4SU"
      },
      "source": [
        "treino.shape"
      ],
      "execution_count": null,
      "outputs": []
    },
    {
      "cell_type": "code",
      "metadata": {
        "id": "aFwCxCzOc56u"
      },
      "source": [
        "teste1.shape"
      ],
      "execution_count": null,
      "outputs": []
    },
    {
      "cell_type": "code",
      "metadata": {
        "id": "hEN3Lzj3hrlY"
      },
      "source": [
        "treino.info()"
      ],
      "execution_count": null,
      "outputs": []
    },
    {
      "cell_type": "code",
      "metadata": {
        "id": "8Hfu7_Byhz3H"
      },
      "source": [
        "treino.describe()"
      ],
      "execution_count": null,
      "outputs": []
    },
    {
      "cell_type": "code",
      "metadata": {
        "id": "WfOj2wrKiIzn"
      },
      "source": [
        "# Instalando biblioteca de visualização\n",
        "!pip install sweetviz"
      ],
      "execution_count": null,
      "outputs": []
    },
    {
      "cell_type": "code",
      "metadata": {
        "id": "5uERBU6diRdX"
      },
      "source": [
        "import sweetviz as sv\n",
        "\n",
        "eda = sv.analyze(source = treino,\n",
        "                 target_feat = 'Cliente')\n",
        "\n",
        "eda.show_notebook()"
      ],
      "execution_count": null,
      "outputs": []
    },
    {
      "cell_type": "code",
      "metadata": {
        "id": "wcCU2T8sfTTF"
      },
      "source": [
        "# Alteração simultanea nos dados das variáveis binárias de treino e teste\n",
        "\n",
        "conjuntos = [treino, teste1]\n",
        "\n",
        "for dados in conjuntos:\n",
        "    dados['gender'] = dados['gender'].map({'Female': 0, 'Male': 1})\n",
        "    dados['Partner'] = dados['Partner'].map({'No': 0, 'Yes': 1})\n",
        "    dados['Dependents'] = dados['Dependents'].map({'No': 0, 'Yes': 1})\n",
        "    dados['PhoneService'] = dados['PhoneService'].map({'No': 0, 'Yes': 1})\n",
        "    dados['PaperlessBilling'] = dados['PaperlessBilling'].map({'No': 0, 'Yes': 1})\n",
        "    dados['Cliente'] = dados['Cliente'].map({'Normal': 0, 'Premium': 1})\n",
        "    "
      ],
      "execution_count": 11,
      "outputs": []
    },
    {
      "cell_type": "code",
      "metadata": {
        "id": "g8lZNVH8mAUY"
      },
      "source": [
        "treino.head()"
      ],
      "execution_count": null,
      "outputs": []
    },
    {
      "cell_type": "code",
      "metadata": {
        "id": "YaHrMUjydI2e"
      },
      "source": [
        "# Arquivo padrão de submissão: \n",
        "# - Dataframe com apenas uma coluna, com nome 'Cliente', com os valores 1, para 'premium' e 0 para 'normal'. \n",
        "# - O índice do dataframe deve estar numerado de 0 a 2499\n",
        "\n",
        "subm = pd.DataFrame()\n",
        "subm['Cliente'] = pred"
      ],
      "execution_count": null,
      "outputs": []
    },
    {
      "cell_type": "code",
      "metadata": {
        "id": "AqyooKCyfRYY"
      },
      "source": [
        "subm"
      ],
      "execution_count": null,
      "outputs": []
    },
    {
      "cell_type": "code",
      "metadata": {
        "id": "pGXWRpxzdXuu"
      },
      "source": [
        "# escrever a submissao em um arquivo\n",
        "# IMPORTANTE usar o argumento 'index = False'\n",
        "\n",
        "subm.to_csv('submissão1.csv', index = False)"
      ],
      "execution_count": null,
      "outputs": []
    },
    {
      "cell_type": "markdown",
      "metadata": {
        "id": "lETOFaB_oKic"
      },
      "source": [
        "---"
      ]
    },
    {
      "cell_type": "code",
      "metadata": {
        "id": "hBrTMVLxoLAc"
      },
      "source": [
        "from sklearn.linear_model import LogisticRegression"
      ],
      "execution_count": null,
      "outputs": []
    },
    {
      "cell_type": "code",
      "metadata": {
        "id": "fba2oDJYoQRV"
      },
      "source": [
        "X = treino[['tenure']]\n",
        "y = treino['Cliente'].map({'Normal': 0, 'Premium': 1})"
      ],
      "execution_count": null,
      "outputs": []
    },
    {
      "cell_type": "code",
      "metadata": {
        "id": "dMpxRRMpozoo"
      },
      "source": [
        "modelo = LogisticRegression()\n",
        "modelo.fit(X,y)"
      ],
      "execution_count": null,
      "outputs": []
    },
    {
      "cell_type": "code",
      "metadata": {
        "id": "cLKd-j25o7K1"
      },
      "source": [
        "pred = modelo.predict(teste[['tenure']])"
      ],
      "execution_count": null,
      "outputs": []
    },
    {
      "cell_type": "code",
      "metadata": {
        "id": "_wf4iFN-pMQD"
      },
      "source": [
        "subm = pd.DataFrame()\n",
        "subm['Cliente'] = pred\n",
        "subm.to_csv('submissão2.csv', index = False)"
      ],
      "execution_count": null,
      "outputs": []
    },
    {
      "cell_type": "code",
      "metadata": {
        "id": "whQJ-xHnpSHc"
      },
      "source": [
        "subm"
      ],
      "execution_count": null,
      "outputs": []
    },
    {
      "cell_type": "code",
      "metadata": {
        "id": "_gCkGwBLpSmB"
      },
      "source": [
        "# alteração simultanea nos dados de treino e teste\n",
        "\n",
        "conjuntos = [treino, teste]\n",
        "\n",
        "for dados in conjuntos:\n",
        "    dados['Partner'] = dados['Partner'].map({'No': 0, 'Yes': 1})\n",
        "    "
      ],
      "execution_count": null,
      "outputs": []
    },
    {
      "cell_type": "code",
      "metadata": {
        "id": "oSGX-1ZcuXcn"
      },
      "source": [
        "teste.head()"
      ],
      "execution_count": null,
      "outputs": []
    }
  ]
}