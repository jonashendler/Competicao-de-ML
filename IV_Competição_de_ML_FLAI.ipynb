{
  "nbformat": 4,
  "nbformat_minor": 0,
  "metadata": {
    "colab": {
      "name": "IV Competição de ML FLAI - Guia de Submissão",
      "provenance": [],
      "collapsed_sections": [],
      "include_colab_link": true
    },
    "kernelspec": {
      "name": "python3",
      "display_name": "Python 3"
    },
    "language_info": {
      "name": "python"
    }
  },
  "cells": [
    {
      "cell_type": "markdown",
      "metadata": {
        "id": "view-in-github",
        "colab_type": "text"
      },
      "source": [
        "<a href=\"https://colab.research.google.com/github/jonashendler/Competicao_de_ML/blob/main/IV_Competi%C3%A7%C3%A3o_de_ML_FLAI.ipynb\" target=\"_parent\"><img src=\"https://colab.research.google.com/assets/colab-badge.svg\" alt=\"Open In Colab\"/></a>"
      ]
    },
    {
      "cell_type": "markdown",
      "metadata": {
        "id": "3LYjCiRpfCvE"
      },
      "source": [
        "# **IV Competição de ML FLAI - Guia de Submissão**"
      ]
    },
    {
      "cell_type": "code",
      "metadata": {
        "id": "qMR8ZIMwcaOs"
      },
      "source": [
        "# Importação dos dados\n",
        "\n",
        "import pandas as pd\n",
        "\n",
        "url1 = 'https://raw.githubusercontent.com/jonashendler/Datasets/main/Competi%C3%A7%C3%A3o%20FLAI/treino.csv'\n",
        "url2 = 'https://raw.githubusercontent.com/jonashendler/Datasets/main/Competi%C3%A7%C3%A3o%20FLAI/teste_1.csv'\n",
        "\n",
        "treino = pd.read_csv(url1)\n",
        "teste1 = pd.read_csv(url2)\n"
      ],
      "execution_count": 1,
      "outputs": []
    },
    {
      "cell_type": "code",
      "metadata": {
        "id": "LbOv1Awvl3Zd",
        "colab": {
          "base_uri": "https://localhost:8080/",
          "height": 292
        },
        "outputId": "2c35e76d-aa5a-4292-9b7a-e2487f6dc431"
      },
      "source": [
        "treino.head()"
      ],
      "execution_count": 14,
      "outputs": [
        {
          "output_type": "execute_result",
          "data": {
            "text/html": [
              "<div>\n",
              "<style scoped>\n",
              "    .dataframe tbody tr th:only-of-type {\n",
              "        vertical-align: middle;\n",
              "    }\n",
              "\n",
              "    .dataframe tbody tr th {\n",
              "        vertical-align: top;\n",
              "    }\n",
              "\n",
              "    .dataframe thead th {\n",
              "        text-align: right;\n",
              "    }\n",
              "</style>\n",
              "<table border=\"1\" class=\"dataframe\">\n",
              "  <thead>\n",
              "    <tr style=\"text-align: right;\">\n",
              "      <th></th>\n",
              "      <th>gender</th>\n",
              "      <th>SeniorCitizen</th>\n",
              "      <th>Partner</th>\n",
              "      <th>Dependents</th>\n",
              "      <th>tenure</th>\n",
              "      <th>PhoneService</th>\n",
              "      <th>MultipleLines</th>\n",
              "      <th>InternetService</th>\n",
              "      <th>OnlineSecurity</th>\n",
              "      <th>OnlineBackup</th>\n",
              "      <th>DeviceProtection</th>\n",
              "      <th>TechSupport</th>\n",
              "      <th>StreamingTV</th>\n",
              "      <th>StreamingMovies</th>\n",
              "      <th>Contract</th>\n",
              "      <th>PaperlessBilling</th>\n",
              "      <th>PaymentMethod</th>\n",
              "      <th>Cliente</th>\n",
              "    </tr>\n",
              "  </thead>\n",
              "  <tbody>\n",
              "    <tr>\n",
              "      <th>0</th>\n",
              "      <td>0</td>\n",
              "      <td>0</td>\n",
              "      <td>0</td>\n",
              "      <td>0</td>\n",
              "      <td>20</td>\n",
              "      <td>1</td>\n",
              "      <td>No</td>\n",
              "      <td>No</td>\n",
              "      <td>No internet service</td>\n",
              "      <td>No internet service</td>\n",
              "      <td>No internet service</td>\n",
              "      <td>No internet service</td>\n",
              "      <td>No internet service</td>\n",
              "      <td>No internet service</td>\n",
              "      <td>Two year</td>\n",
              "      <td>0</td>\n",
              "      <td>Mailed check</td>\n",
              "      <td>0</td>\n",
              "    </tr>\n",
              "    <tr>\n",
              "      <th>1</th>\n",
              "      <td>0</td>\n",
              "      <td>0</td>\n",
              "      <td>1</td>\n",
              "      <td>1</td>\n",
              "      <td>59</td>\n",
              "      <td>1</td>\n",
              "      <td>Yes</td>\n",
              "      <td>DSL</td>\n",
              "      <td>Yes</td>\n",
              "      <td>Yes</td>\n",
              "      <td>No</td>\n",
              "      <td>Yes</td>\n",
              "      <td>No</td>\n",
              "      <td>No</td>\n",
              "      <td>One year</td>\n",
              "      <td>0</td>\n",
              "      <td>Mailed check</td>\n",
              "      <td>1</td>\n",
              "    </tr>\n",
              "    <tr>\n",
              "      <th>2</th>\n",
              "      <td>0</td>\n",
              "      <td>0</td>\n",
              "      <td>1</td>\n",
              "      <td>1</td>\n",
              "      <td>68</td>\n",
              "      <td>0</td>\n",
              "      <td>No phone service</td>\n",
              "      <td>DSL</td>\n",
              "      <td>No</td>\n",
              "      <td>Yes</td>\n",
              "      <td>Yes</td>\n",
              "      <td>Yes</td>\n",
              "      <td>Yes</td>\n",
              "      <td>Yes</td>\n",
              "      <td>Two year</td>\n",
              "      <td>0</td>\n",
              "      <td>Credit card (automatic)</td>\n",
              "      <td>1</td>\n",
              "    </tr>\n",
              "    <tr>\n",
              "      <th>3</th>\n",
              "      <td>0</td>\n",
              "      <td>0</td>\n",
              "      <td>0</td>\n",
              "      <td>1</td>\n",
              "      <td>35</td>\n",
              "      <td>1</td>\n",
              "      <td>Yes</td>\n",
              "      <td>DSL</td>\n",
              "      <td>No</td>\n",
              "      <td>No</td>\n",
              "      <td>No</td>\n",
              "      <td>No</td>\n",
              "      <td>No</td>\n",
              "      <td>No</td>\n",
              "      <td>Month-to-month</td>\n",
              "      <td>0</td>\n",
              "      <td>Mailed check</td>\n",
              "      <td>1</td>\n",
              "    </tr>\n",
              "    <tr>\n",
              "      <th>4</th>\n",
              "      <td>1</td>\n",
              "      <td>1</td>\n",
              "      <td>0</td>\n",
              "      <td>0</td>\n",
              "      <td>1</td>\n",
              "      <td>1</td>\n",
              "      <td>No</td>\n",
              "      <td>DSL</td>\n",
              "      <td>No</td>\n",
              "      <td>No</td>\n",
              "      <td>No</td>\n",
              "      <td>No</td>\n",
              "      <td>No</td>\n",
              "      <td>No</td>\n",
              "      <td>Month-to-month</td>\n",
              "      <td>0</td>\n",
              "      <td>Electronic check</td>\n",
              "      <td>0</td>\n",
              "    </tr>\n",
              "  </tbody>\n",
              "</table>\n",
              "</div>"
            ],
            "text/plain": [
              "   gender  SeniorCitizen  ...            PaymentMethod  Cliente\n",
              "0       0              0  ...             Mailed check        0\n",
              "1       0              0  ...             Mailed check        1\n",
              "2       0              0  ...  Credit card (automatic)        1\n",
              "3       0              0  ...             Mailed check        1\n",
              "4       1              1  ...         Electronic check        0\n",
              "\n",
              "[5 rows x 18 columns]"
            ]
          },
          "metadata": {
            "tags": []
          },
          "execution_count": 14
        }
      ]
    },
    {
      "cell_type": "code",
      "metadata": {
        "id": "ZuS_Sjtgc4SU"
      },
      "source": [
        "treino.shape"
      ],
      "execution_count": null,
      "outputs": []
    },
    {
      "cell_type": "code",
      "metadata": {
        "id": "aFwCxCzOc56u"
      },
      "source": [
        "teste1.shape"
      ],
      "execution_count": null,
      "outputs": []
    },
    {
      "cell_type": "code",
      "metadata": {
        "id": "hEN3Lzj3hrlY"
      },
      "source": [
        "treino.info()"
      ],
      "execution_count": null,
      "outputs": []
    },
    {
      "cell_type": "code",
      "metadata": {
        "id": "8Hfu7_Byhz3H"
      },
      "source": [
        "treino.describe()"
      ],
      "execution_count": null,
      "outputs": []
    },
    {
      "cell_type": "code",
      "metadata": {
        "id": "wcCU2T8sfTTF"
      },
      "source": [
        "# Alteração simultanea nos dados das variáveis binárias de treino e teste\n",
        "\n",
        "conjuntos = [treino, teste1]\n",
        "\n",
        "for dados in conjuntos:\n",
        "    dados['gender'] = dados['gender'].map({'Female': 0, 'Male': 1})\n",
        "    dados['Partner'] = dados['Partner'].map({'No': 0, 'Yes': 1})\n",
        "    dados['Dependents'] = dados['Dependents'].map({'No': 0, 'Yes': 1})\n",
        "    dados['PhoneService'] = dados['PhoneService'].map({'No': 0, 'Yes': 1})\n",
        "    dados['PaperlessBilling'] = dados['PaperlessBilling'].map({'No': 0, 'Yes': 1})\n",
        "    dados['Cliente'] = dados['Cliente'].map({'Normal': 0, 'Premium': 1})    "
      ],
      "execution_count": 11,
      "outputs": []
    },
    {
      "cell_type": "code",
      "metadata": {
        "id": "g8lZNVH8mAUY"
      },
      "source": [
        "treino.head()"
      ],
      "execution_count": null,
      "outputs": []
    },
    {
      "cell_type": "code",
      "metadata": {
        "id": "WfOj2wrKiIzn"
      },
      "source": [
        "# Instalando biblioteca de visualização\n",
        "!pip install sweetviz"
      ],
      "execution_count": null,
      "outputs": []
    },
    {
      "cell_type": "code",
      "metadata": {
        "id": "5uERBU6diRdX"
      },
      "source": [
        "import sweetviz as sv\n",
        "\n",
        "eda = sv.analyze(source = treino,\n",
        "                 target_feat = 'Cliente')\n",
        "\n",
        "eda.show_notebook()"
      ],
      "execution_count": null,
      "outputs": []
    },
    {
      "cell_type": "code",
      "metadata": {
        "id": "sqg489YQroGz"
      },
      "source": [
        "# Descarte de variáveis não importantes\n",
        "\n",
        "treino.drop(['gender', 'Dependents', 'PhoneService'], axis = 1, inplace = True)"
      ],
      "execution_count": 15,
      "outputs": []
    },
    {
      "cell_type": "code",
      "metadata": {
        "id": "HTlLnZ0isMSy"
      },
      "source": [
        "treino.head()"
      ],
      "execution_count": null,
      "outputs": []
    },
    {
      "cell_type": "code",
      "metadata": {
        "id": "OuditXv8svoF"
      },
      "source": [
        "# Verificação de dados faltantes\n",
        "\n",
        "treino.isnull().sum()"
      ],
      "execution_count": null,
      "outputs": []
    },
    {
      "cell_type": "code",
      "metadata": {
        "id": "v97vPCP-trgA"
      },
      "source": [
        "# Categorização de variável contínua\n",
        "\n",
        "treino['tenure'].plot(kind = 'hist', edgecolor = 'white');"
      ],
      "execution_count": null,
      "outputs": []
    },
    {
      "cell_type": "code",
      "metadata": {
        "id": "TVgFd5qRuj1j"
      },
      "source": [
        "def auxiliar(x):\n",
        "    if x <= 12:\n",
        "        return 'Até 1 ano'\n",
        "    elif x <= 60:\n",
        "        return 'De 1 a 5 anos'\n",
        "    else:\n",
        "        return 'Acima de 5 anos'\n",
        "\n",
        "treino['tenure'] = treino['tenure'].apply(auxiliar)"
      ],
      "execution_count": null,
      "outputs": []
    },
    {
      "cell_type": "code",
      "metadata": {
        "id": "RY84EGwA6B1d"
      },
      "source": [
        "treino.head()"
      ],
      "execution_count": null,
      "outputs": []
    },
    {
      "cell_type": "code",
      "metadata": {
        "id": "pIi7zeU03qgb"
      },
      "source": [
        "# Dummyficação de variáveis categóricas\n",
        "\n",
        "variaveis_cat = ['tenure', 'MultipleLines', 'InternetService', 'OnlineSecurity', 'OnlineBackup', 'DeviceProtection', \n",
        "                 'TechSupport', 'StreamingTV', 'StreamingMovies', 'Contract', 'PaymentMethod']\n",
        "\n",
        "treino = pd.get_dummies(treino, columns = variaveis_cat, drop_first = True)"
      ],
      "execution_count": 24,
      "outputs": []
    },
    {
      "cell_type": "code",
      "metadata": {
        "id": "SiTZsa-q3-Tx"
      },
      "source": [
        "treino.head()"
      ],
      "execution_count": null,
      "outputs": []
    },
    {
      "cell_type": "code",
      "metadata": {
        "id": "5nHMteKx24Ha"
      },
      "source": [
        "# Algoritmo KNN\n",
        "import numpy as np\n",
        "from sklearn.neighbors import KNeighborsRegressor\n",
        "\n",
        "k = 15\n",
        "\n",
        "R = 100\n",
        "eqms_treino = []\n",
        "eqms_teste = []\n",
        "\n",
        "x = dados[ ['tenure']]\n",
        "y = dados['Clientes']\n",
        "\n",
        "for i in range(R):\n",
        "    xtreino, xteste, ytreino, yteste = train_test_split(x, y, test_size = 0.25)\n",
        "\n",
        "    knn = KNeighborsRegressor(n_neighbors = k)\n",
        "    knn.fit(xtreino, ytreino)\n",
        "\n",
        "    preditor_treino = knn.predict(xtreino)\n",
        "    eqm_treino = mean_squared_error(preditor_treino, ytreino)\n",
        "    eqms_treino.append(eqm_treino)\n",
        "    \n",
        "    preditor_teste = knn.predict(xteste)\n",
        "    eqm_teste = mean_squared_error(preditor_teste, yteste)\n",
        "    eqms_teste.append(eqm_teste)\n",
        "\n",
        "print('O erro Quadrático Médio de TREINO foi: {:.2f', format(np.mean(eqms_treino)))    \n",
        "print('O erro Quadrático Médio de TESTE foi: {:.2f', format(np.mean(eqms_teste)))    \n",
        "\n",
        "\n"
      ],
      "execution_count": null,
      "outputs": []
    },
    {
      "cell_type": "code",
      "metadata": {
        "id": "YaHrMUjydI2e"
      },
      "source": [
        "# Arquivo padrão de submissão: \n",
        "# - Dataframe com apenas uma coluna, com nome 'Cliente', com os valores 1, para 'premium' e 0 para 'normal'. \n",
        "# - O índice do dataframe deve estar numerado de 0 a 2499\n",
        "\n",
        "subm = pd.DataFrame()\n",
        "subm['Cliente'] = pred"
      ],
      "execution_count": null,
      "outputs": []
    },
    {
      "cell_type": "code",
      "metadata": {
        "id": "AqyooKCyfRYY"
      },
      "source": [
        "subm"
      ],
      "execution_count": null,
      "outputs": []
    },
    {
      "cell_type": "code",
      "metadata": {
        "id": "pGXWRpxzdXuu"
      },
      "source": [
        "# escrever a submissao em um arquivo\n",
        "# IMPORTANTE usar o argumento 'index = False'\n",
        "\n",
        "subm.to_csv('submissão1.csv', index = False)"
      ],
      "execution_count": null,
      "outputs": []
    },
    {
      "cell_type": "markdown",
      "metadata": {
        "id": "lETOFaB_oKic"
      },
      "source": [
        "---"
      ]
    },
    {
      "cell_type": "code",
      "metadata": {
        "id": "hBrTMVLxoLAc"
      },
      "source": [
        "from sklearn.linear_model import LogisticRegression"
      ],
      "execution_count": null,
      "outputs": []
    },
    {
      "cell_type": "code",
      "metadata": {
        "id": "fba2oDJYoQRV"
      },
      "source": [
        "X = treino[['tenure']]\n",
        "y = treino['Cliente'].map({'Normal': 0, 'Premium': 1})"
      ],
      "execution_count": null,
      "outputs": []
    },
    {
      "cell_type": "code",
      "metadata": {
        "id": "dMpxRRMpozoo"
      },
      "source": [
        "modelo = LogisticRegression()\n",
        "modelo.fit(X,y)"
      ],
      "execution_count": null,
      "outputs": []
    },
    {
      "cell_type": "code",
      "metadata": {
        "id": "cLKd-j25o7K1"
      },
      "source": [
        "pred = modelo.predict(teste[['tenure']])"
      ],
      "execution_count": null,
      "outputs": []
    },
    {
      "cell_type": "code",
      "metadata": {
        "id": "_wf4iFN-pMQD"
      },
      "source": [
        "subm = pd.DataFrame()\n",
        "subm['Cliente'] = pred\n",
        "subm.to_csv('submissão2.csv', index = False)"
      ],
      "execution_count": null,
      "outputs": []
    },
    {
      "cell_type": "code",
      "metadata": {
        "id": "whQJ-xHnpSHc"
      },
      "source": [
        "subm"
      ],
      "execution_count": null,
      "outputs": []
    },
    {
      "cell_type": "code",
      "metadata": {
        "id": "_gCkGwBLpSmB"
      },
      "source": [
        "# alteração simultanea nos dados de treino e teste\n",
        "\n",
        "conjuntos = [treino, teste]\n",
        "\n",
        "for dados in conjuntos:\n",
        "    dados['Partner'] = dados['Partner'].map({'No': 0, 'Yes': 1})\n",
        "    "
      ],
      "execution_count": null,
      "outputs": []
    },
    {
      "cell_type": "code",
      "metadata": {
        "id": "oSGX-1ZcuXcn"
      },
      "source": [
        "teste.head()"
      ],
      "execution_count": null,
      "outputs": []
    }
  ]
}